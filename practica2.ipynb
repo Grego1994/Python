{
  "nbformat": 4,
  "nbformat_minor": 0,
  "metadata": {
    "colab": {
      "provenance": []
    },
    "kernelspec": {
      "name": "python3",
      "display_name": "Python 3"
    },
    "language_info": {
      "name": "python"
    }
  },
  "cells": [
    {
      "cell_type": "code",
      "execution_count": 1,
      "metadata": {
        "colab": {
          "base_uri": "https://localhost:8080/"
        },
        "collapsed": true,
        "id": "CDR2Vj5KNZmu",
        "outputId": "400cd139-568e-4693-fd66-e070088c267a"
      },
      "outputs": [
        {
          "output_type": "stream",
          "name": "stdout",
          "text": [
            "GNU bash, version 5.1.16(1)-release (x86_64-pc-linux-gnu)\n",
            "These shell commands are defined internally.  Type `help' to see this list.\n",
            "Type `help name' to find out more about the function `name'.\n",
            "Use `info bash' to find out more about the shell in general.\n",
            "Use `man -k' or `info' to find out more about commands not in this list.\n",
            "\n",
            "A star (*) next to a name means that the command is disabled.\n",
            "\n",
            " job_spec [&]                            history [-c] [-d offset] [n] or hist>\n",
            " (( expression ))                        if COMMANDS; then COMMANDS; [ elif C>\n",
            " . filename [arguments]                  jobs [-lnprs] [jobspec ...] or jobs >\n",
            " :                                       kill [-s sigspec | -n signum | -sigs>\n",
            " [ arg... ]                              let arg [arg ...]\n",
            " [[ expression ]]                        local [option] name[=value] ...\n",
            " alias [-p] [name[=value] ... ]          logout [n]\n",
            " bg [job_spec ...]                       mapfile [-d delim] [-n count] [-O or>\n",
            " bind [-lpsvPSVX] [-m keymap] [-f file>  popd [-n] [+N | -N]\n",
            " break [n]                               printf [-v var] format [arguments]\n",
            " builtin [shell-builtin [arg ...]]       pushd [-n] [+N | -N | dir]\n",
            " caller [expr]                           pwd [-LP]\n",
            " case WORD in [PATTERN [| PATTERN]...)>  read [-ers] [-a array] [-d delim] [->\n",
            " cd [-L|[-P [-e]] [-@]] [dir]            readarray [-d delim] [-n count] [-O >\n",
            " command [-pVv] command [arg ...]        readonly [-aAf] [name[=value] ...] o>\n",
            " compgen [-abcdefgjksuv] [-o option] [>  return [n]\n",
            " complete [-abcdefgjksuv] [-pr] [-DEI]>  select NAME [in WORDS ... ;] do COMM>\n",
            " compopt [-o|+o option] [-DEI] [name .>  set [-abefhkmnptuvxBCHP] [-o option->\n",
            " continue [n]                            shift [n]\n",
            " coproc [NAME] command [redirections]    shopt [-pqsu] [-o] [optname ...]\n",
            " declare [-aAfFgiIlnrtux] [-p] [name[=>  source filename [arguments]\n",
            " dirs [-clpv] [+N] [-N]                  suspend [-f]\n",
            " disown [-h] [-ar] [jobspec ... | pid >  test [expr]\n",
            " echo [-neE] [arg ...]                   time [-p] pipeline\n",
            " enable [-a] [-dnps] [-f filename] [na>  times\n",
            " eval [arg ...]                          trap [-lp] [[arg] signal_spec ...]\n",
            " exec [-cl] [-a name] [command [argume>  true\n",
            " exit [n]                                type [-afptP] name [name ...]\n",
            " export [-fn] [name[=value] ...] or ex>  typeset [-aAfFgiIlnrtux] [-p] name[=>\n",
            " false                                   ulimit [-SHabcdefiklmnpqrstuvxPT] [l>\n",
            " fc [-e ename] [-lnr] [first] [last] o>  umask [-p] [-S] [mode]\n",
            " fg [job_spec]                           unalias [-a] name [name ...]\n",
            " for NAME [in WORDS ... ] ; do COMMAND>  unset [-f] [-v] [-n] [name ...]\n",
            " for (( exp1; exp2; exp3 )); do COMMAN>  until COMMANDS; do COMMANDS; done\n",
            " function name { COMMANDS ; } or name >  variables - Names and meanings of so>\n",
            " getopts optstring name [arg ...]        wait [-fn] [-p var] [id ...]\n",
            " hash [-lr] [-p pathname] [-dt] [name >  while COMMANDS; do COMMANDS; done\n",
            " help [-dms] [pattern ...]               { COMMANDS ; }\n"
          ]
        }
      ],
      "source": [
        "!help"
      ]
    },
    {
      "cell_type": "code",
      "source": [
        "man find"
      ],
      "metadata": {
        "id": "2K7CJWxpOYoP"
      },
      "execution_count": 2,
      "outputs": []
    },
    {
      "cell_type": "code",
      "source": [
        "find / -name '*.ipynb'"
      ],
      "metadata": {
        "colab": {
          "base_uri": "https://localhost:8080/",
          "height": 106
        },
        "id": "LgyuAVLDOqbm",
        "outputId": "06c35377-15f9-4188-b4ba-2f3859c95a42"
      },
      "execution_count": 4,
      "outputs": [
        {
          "output_type": "error",
          "ename": "SyntaxError",
          "evalue": "invalid syntax (ipython-input-3936471037.py, line 1)",
          "traceback": [
            "\u001b[0;36m  File \u001b[0;32m\"/tmp/ipython-input-3936471037.py\"\u001b[0;36m, line \u001b[0;32m1\u001b[0m\n\u001b[0;31m    find / -name '*.ipynb'\u001b[0m\n\u001b[0m                 ^\u001b[0m\n\u001b[0;31mSyntaxError\u001b[0m\u001b[0;31m:\u001b[0m invalid syntax\n"
          ]
        }
      ]
    },
    {
      "cell_type": "code",
      "source": [
        "\"\"\"\n",
        "lectura de variable por teclado\n",
        "y conversion a tipo numerico para operar\n",
        "\n",
        "\"\"\"\n",
        "num = input(\"Dame un numero\")\n",
        "print(\"Tu numero es\", num)\n",
        "print(\"Tu numero multiplicado por 5 es\", num*5)\n",
        "\n",
        "\"\"\"\n",
        "lo convertimos a entero\n",
        "\n",
        "\"\"\"\n",
        "num = int(num)\n",
        "print(\"Tu numero multiplicado por 5 es\", num*5)"
      ],
      "metadata": {
        "colab": {
          "base_uri": "https://localhost:8080/"
        },
        "id": "2yLWvQ6IPLX1",
        "outputId": "32a5766f-0d1c-4774-8046-7698c3b5d250"
      },
      "execution_count": 6,
      "outputs": [
        {
          "output_type": "stream",
          "name": "stdout",
          "text": [
            "Dame un numero3\n",
            "Tu numero es 3\n",
            "Tu numero multiplicado por 5 es 33333\n",
            "Tu numero multiplicado por 5 es 15\n"
          ]
        }
      ]
    },
    {
      "cell_type": "code",
      "source": [
        "type (num)"
      ],
      "metadata": {
        "colab": {
          "base_uri": "https://localhost:8080/"
        },
        "id": "AhuZd4tBQRbk",
        "outputId": "dcfbec34-ee91-495c-d764-464c618a1f15"
      },
      "execution_count": 7,
      "outputs": [
        {
          "output_type": "execute_result",
          "data": {
            "text/plain": [
              "int"
            ]
          },
          "metadata": {},
          "execution_count": 7
        }
      ]
    },
    {
      "cell_type": "code",
      "source": [
        "num = 10//3\n",
        "type (num)"
      ],
      "metadata": {
        "colab": {
          "base_uri": "https://localhost:8080/"
        },
        "id": "fM-hIp8ZQTXk",
        "outputId": "54fad87e-2fcb-4f2b-dc69-c6b28a9dc420"
      },
      "execution_count": 8,
      "outputs": [
        {
          "output_type": "execute_result",
          "data": {
            "text/plain": [
              "int"
            ]
          },
          "metadata": {},
          "execution_count": 8
        }
      ]
    },
    {
      "cell_type": "code",
      "source": [
        "print(num)"
      ],
      "metadata": {
        "colab": {
          "base_uri": "https://localhost:8080/"
        },
        "id": "C3MyFv7BQclN",
        "outputId": "8fecf3da-b3f6-40a3-ff1f-2f1495a38a79"
      },
      "execution_count": 9,
      "outputs": [
        {
          "output_type": "stream",
          "name": "stdout",
          "text": [
            "3\n"
          ]
        }
      ]
    },
    {
      "cell_type": "code",
      "source": [
        "num = 10/3\n",
        "print(num)\n",
        "type(num)"
      ],
      "metadata": {
        "colab": {
          "base_uri": "https://localhost:8080/"
        },
        "id": "pYmlidUvQg80",
        "outputId": "c562f0e4-717a-4339-e5bf-31697f35ca38"
      },
      "execution_count": 10,
      "outputs": [
        {
          "output_type": "stream",
          "name": "stdout",
          "text": [
            "3.3333333333333335\n"
          ]
        },
        {
          "output_type": "execute_result",
          "data": {
            "text/plain": [
              "float"
            ]
          },
          "metadata": {},
          "execution_count": 10
        }
      ]
    },
    {
      "cell_type": "code",
      "source": [
        "num = 10%3\n",
        "print(num)"
      ],
      "metadata": {
        "colab": {
          "base_uri": "https://localhost:8080/"
        },
        "id": "3ovab6p3Qols",
        "outputId": "4aa7f351-0099-4dc4-a52b-5d065139d160"
      },
      "execution_count": 11,
      "outputs": [
        {
          "output_type": "stream",
          "name": "stdout",
          "text": [
            "1\n"
          ]
        }
      ]
    },
    {
      "cell_type": "code",
      "source": [
        "nombre = \"Gregorio\"\n",
        "print(nombre)\n",
        "type(nombre)"
      ],
      "metadata": {
        "colab": {
          "base_uri": "https://localhost:8080/"
        },
        "id": "gVT2nYycQvE8",
        "outputId": "618c9a09-d370-4fc8-bd6a-d3a162cff6e9"
      },
      "execution_count": 12,
      "outputs": [
        {
          "output_type": "stream",
          "name": "stdout",
          "text": [
            "Gregorio\n"
          ]
        },
        {
          "output_type": "execute_result",
          "data": {
            "text/plain": [
              "str"
            ]
          },
          "metadata": {},
          "execution_count": 12
        }
      ]
    },
    {
      "cell_type": "code",
      "source": [
        "num = int(input(\"Dame un numero:\"))\n",
        "mayor = (10>num)\n",
        "print(mayor)\n",
        "type(mayor)"
      ],
      "metadata": {
        "colab": {
          "base_uri": "https://localhost:8080/"
        },
        "id": "skJxrPEGQ-IO",
        "outputId": "dbb68bd3-7f8e-468a-dd17-bfe62983878e"
      },
      "execution_count": 19,
      "outputs": [
        {
          "output_type": "stream",
          "name": "stdout",
          "text": [
            "Dame un numero:3\n",
            "True\n"
          ]
        },
        {
          "output_type": "execute_result",
          "data": {
            "text/plain": [
              "bool"
            ]
          },
          "metadata": {},
          "execution_count": 19
        }
      ]
    },
    {
      "cell_type": "code",
      "source": [
        "if (num == 5):\n",
        "  print (\"tu numero es 5\")\n",
        "else:\n",
        "  print (\"tu numero es diferente de 5\")"
      ],
      "metadata": {
        "colab": {
          "base_uri": "https://localhost:8080/"
        },
        "id": "ltUWuEz3RvPk",
        "outputId": "3fdb0409-c804-44f2-a28e-3027fd9435ec"
      },
      "execution_count": 20,
      "outputs": [
        {
          "output_type": "stream",
          "name": "stdout",
          "text": [
            "tu numero es diferente de 5\n"
          ]
        }
      ]
    },
    {
      "cell_type": "code",
      "source": [
        "if (num !=5):\n",
        "  print (\"tu numero es diferente de 5\")\n",
        "else:\n",
        "  print (\"tu numero es 5\")"
      ],
      "metadata": {
        "colab": {
          "base_uri": "https://localhost:8080/"
        },
        "id": "E-n7N_9SSCGd",
        "outputId": "63041641-a5f0-495d-a7db-5f5d6f59e2f8"
      },
      "execution_count": 21,
      "outputs": [
        {
          "output_type": "stream",
          "name": "stdout",
          "text": [
            "tu numero es diferente de 5\n"
          ]
        }
      ]
    },
    {
      "cell_type": "code",
      "source": [
        "num = int(input(\"Dame un numero\"))\n",
        "if (num >=10 and num <=15):\n",
        "  print (\"Numero entre 10 y 15\")\n",
        "elif (num >15):\n",
        "  print (\"Numero mayor que 15\")\n",
        "else:\n",
        "  print (\"Numero menor que 10\")"
      ],
      "metadata": {
        "colab": {
          "base_uri": "https://localhost:8080/"
        },
        "id": "DIq55_fdSR2k",
        "outputId": "174a893a-21f3-4a42-dfdf-1e83131f1c2b"
      },
      "execution_count": 25,
      "outputs": [
        {
          "output_type": "stream",
          "name": "stdout",
          "text": [
            "Dame un numero13\n",
            "Numero entre 10 y 15\n"
          ]
        }
      ]
    },
    {
      "cell_type": "code",
      "source": [
        "lista = range (6)\n",
        "for i in lista:\n",
        "  print(i)"
      ],
      "metadata": {
        "colab": {
          "base_uri": "https://localhost:8080/"
        },
        "id": "zh010A_WUMXd",
        "outputId": "9c509d99-f575-4459-9ed8-4693484359a1"
      },
      "execution_count": 38,
      "outputs": [
        {
          "output_type": "stream",
          "name": "stdout",
          "text": [
            "0\n",
            "1\n",
            "2\n",
            "3\n",
            "4\n",
            "5\n"
          ]
        }
      ]
    },
    {
      "cell_type": "code",
      "source": [
        "lista = range (3,6)\n",
        "print(list(lista))\n",
        "print(\"la lista tiene\",len(lista),\"elementos\")"
      ],
      "metadata": {
        "colab": {
          "base_uri": "https://localhost:8080/"
        },
        "id": "4iDmjjDkUWGN",
        "outputId": "9c47f792-62ff-4567-d0a1-6518485ae228"
      },
      "execution_count": 43,
      "outputs": [
        {
          "output_type": "stream",
          "name": "stdout",
          "text": [
            "[3, 4, 5]\n",
            "la lista tiene 3 elementos\n"
          ]
        }
      ]
    },
    {
      "cell_type": "code",
      "source": [
        "lista=range(3,20,2)\n",
        "list(lista)"
      ],
      "metadata": {
        "colab": {
          "base_uri": "https://localhost:8080/"
        },
        "id": "9i7LiUJFVC9_",
        "outputId": "006a6a4a-d5a3-4148-8861-a6c3e5edd578"
      },
      "execution_count": 44,
      "outputs": [
        {
          "output_type": "execute_result",
          "data": {
            "text/plain": [
              "[3, 5, 7, 9, 11, 13, 15, 17, 19]"
            ]
          },
          "metadata": {},
          "execution_count": 44
        }
      ]
    }
  ]
}